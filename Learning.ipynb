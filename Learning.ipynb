{
 "metadata": {
  "name": ""
 },
 "nbformat": 3,
 "nbformat_minor": 0,
 "worksheets": [
  {
   "cells": [
    {
     "cell_type": "code",
     "collapsed": false,
     "input": [
      "%pylab --no-import-all inline\n",
      "import numpy as np\n",
      "import matplotlib\n",
      "import matplotlib.pyplot as plt\n",
      "import pandas as pd\n",
      "from tone_pallettes import dataset as patterns"
     ],
     "language": "python",
     "metadata": {},
     "outputs": [
      {
       "output_type": "stream",
       "stream": "stdout",
       "text": [
        "Populating the interactive namespace from numpy and matplotlib\n"
       ]
      }
     ],
     "prompt_number": 1
    },
    {
     "cell_type": "markdown",
     "metadata": {},
     "source": [
      "### The master Dataset"
     ]
    },
    {
     "cell_type": "code",
     "collapsed": false,
     "input": [
      "values = patterns('processed/')\n",
      "SAR = pd.read_table(\"speech_archive_meta.tsv\")\n",
      "master = pd.merge(SAR, values, how='inner', \n",
      "         left_on=['first_language', 'recording_num'], \n",
      "         right_on=['lang', 'num'])\n",
      "master['is_english'] = master.apply(lambda row: row['first_language'] == 'english', axis=1)\n",
      "def plot_hist(column, n=30):\n",
      "    master[column].groupby(master[column]).size().order(ascending=False)[:n].plot(kind='bar')\n",
      "    \n",
      "plot_hist('is_english')"
     ],
     "language": "python",
     "metadata": {},
     "outputs": [
      {
       "metadata": {},
       "output_type": "display_data",
       "png": "[encoded data removed]",
       "text": [
        "<matplotlib.figure.Figure at 0x11107d810>"
       ]
      }
     ],
     "prompt_number": 2
    },
    {
     "cell_type": "markdown",
     "metadata": {},
     "source": [
      "### Preprocessing\n",
      "\n",
      "1. Encode Labels\n",
      "2. Set up cross-validation\n",
      "3. shuffle"
     ]
    },
    {
     "cell_type": "code",
     "collapsed": false,
     "input": [
      "# The Dataset\n",
      "from sklearn.preprocessing import LabelEncoder\n",
      "from sklearn.utils import shuffle\n",
      "from sklearn.cross_validation import StratifiedKFold\n",
      "from sklearn.cross_validation import cross_val_score\n",
      "\n",
      "LE = LabelEncoder().fit(master.is_english)\n",
      "X_orig = np.vstack(master.data.values) \n",
      "y_orig = LE.transform(master.is_english)\n",
      "\n",
      "# Shuffle\n",
      "X, y = shuffle(X_orig, y_orig, random_state=42)\n",
      "\n",
      "# IMPORTANT! THIS HANDLES ALL CROSS VALIDATION\n",
      "skf = StratifiedKFold(y, n_folds=4)"
     ],
     "language": "python",
     "metadata": {},
     "outputs": [
      {
       "ename": "NameError",
       "evalue": "name 'master' is not defined",
       "output_type": "pyerr",
       "traceback": [
        "\u001b[0;31m---------------------------------------------------------------------------\u001b[0m\n\u001b[0;31mNameError\u001b[0m                                 Traceback (most recent call last)",
        "\u001b[0;32m<ipython-input-1-af208cf9fe32>\u001b[0m in \u001b[0;36m<module>\u001b[0;34m()\u001b[0m\n\u001b[1;32m      5\u001b[0m \u001b[0;32mfrom\u001b[0m \u001b[0msklearn\u001b[0m\u001b[0;34m.\u001b[0m\u001b[0mcross_validation\u001b[0m \u001b[0;32mimport\u001b[0m \u001b[0mcross_val_score\u001b[0m\u001b[0;34m\u001b[0m\u001b[0m\n\u001b[1;32m      6\u001b[0m \u001b[0;34m\u001b[0m\u001b[0m\n\u001b[0;32m----> 7\u001b[0;31m \u001b[0mLE\u001b[0m \u001b[0;34m=\u001b[0m \u001b[0mLabelEncoder\u001b[0m\u001b[0;34m(\u001b[0m\u001b[0;34m)\u001b[0m\u001b[0;34m.\u001b[0m\u001b[0mfit\u001b[0m\u001b[0;34m(\u001b[0m\u001b[0mmaster\u001b[0m\u001b[0;34m.\u001b[0m\u001b[0mis_english\u001b[0m\u001b[0;34m)\u001b[0m\u001b[0;34m\u001b[0m\u001b[0m\n\u001b[0m\u001b[1;32m      8\u001b[0m \u001b[0mX_orig\u001b[0m \u001b[0;34m=\u001b[0m \u001b[0mnp\u001b[0m\u001b[0;34m.\u001b[0m\u001b[0mvstack\u001b[0m\u001b[0;34m(\u001b[0m\u001b[0mmaster\u001b[0m\u001b[0;34m.\u001b[0m\u001b[0mdata\u001b[0m\u001b[0;34m.\u001b[0m\u001b[0mvalues\u001b[0m\u001b[0;34m)\u001b[0m\u001b[0;34m\u001b[0m\u001b[0m\n\u001b[1;32m      9\u001b[0m \u001b[0my_orig\u001b[0m \u001b[0;34m=\u001b[0m \u001b[0mLE\u001b[0m\u001b[0;34m.\u001b[0m\u001b[0mtransform\u001b[0m\u001b[0;34m(\u001b[0m\u001b[0mmaster\u001b[0m\u001b[0;34m.\u001b[0m\u001b[0mis_english\u001b[0m\u001b[0;34m)\u001b[0m\u001b[0;34m\u001b[0m\u001b[0m\n",
        "\u001b[0;31mNameError\u001b[0m: name 'master' is not defined"
       ]
      }
     ],
     "prompt_number": 1
    },
    {
     "cell_type": "markdown",
     "metadata": {},
     "source": [
      "## SVM pipeline\n",
      "\n",
      "1. Center/Scale the (training) features to be centred on 0, with variance 1.\n",
      "2. Reduce the dimensionality of the features (either through picking 'the best' subset, or through pca)\n",
      "3. use SVM to classify.\n",
      "4. Optimize parameters using a grid-search."
     ]
    },
    {
     "cell_type": "code",
     "collapsed": false,
     "input": [
      "from sklearn.pipeline import Pipeline\n",
      "from sklearn.preprocessing import StandardScaler\n",
      "from sklearn.decomposition import PCA\n",
      "from sklearn.svm import LinearSVC, SVC\n",
      "from sklearn.metrics import confusion_matrix, make_scorer"
     ],
     "language": "python",
     "metadata": {},
     "outputs": [],
     "prompt_number": 4
    },
    {
     "cell_type": "code",
     "collapsed": false,
     "input": [
      "pipe1 = Pipeline([('scale', StandardScaler()), \n",
      "                  ('feature_selection', LinearSVC(penalty='l1')),\n",
      "                  ('svm', SVC(kernel='rbf', gamma=1, class_weight='auto', C=0.5))])\n",
      "cvc = cross_val_score(pipe1, X, y, cv=skf, n_jobs=1, scoring='accuracy')\n",
      "print cvc.mean(), '+/-', cvc.std()"
     ],
     "language": "python",
     "metadata": {},
     "outputs": [
      {
       "output_type": "stream",
       "stream": "stdout",
       "text": [
        "0.581406948744 +/- 0.0172378622201\n"
       ]
      }
     ],
     "prompt_number": 5
    },
    {
     "cell_type": "code",
     "collapsed": false,
     "input": [
      "# Lets try some dimensionality reduction ...\n",
      "pipe_with_pca = Pipeline([('scale', StandardScaler()),\n",
      "                          ('pca', PCA(n_components=20, whiten=False)),\n",
      "                          ('svm', SVC(kernel='rbf', class_weight='auto', C=1.))])\n",
      "cvc2 = cross_val_score(pipe_with_pca, X, y, cv=skf, n_jobs=-1, scoring='accuracy')\n",
      "print cvc2.mean(), '+/-', cvc.std()"
     ],
     "language": "python",
     "metadata": {},
     "outputs": [
      {
       "output_type": "stream",
       "stream": "stdout",
       "text": [
        "0.654858961128 +/- 0.0172378622201\n"
       ]
      }
     ],
     "prompt_number": 6
    },
    {
     "cell_type": "code",
     "collapsed": false,
     "input": [
      "# Grid Search\n",
      "from sklearn.grid_search import GridSearchCV\n",
      "\n",
      "params = {'pca__n_components': [400, 200, 100],\n",
      "          'svm__C': [0.8],\n",
      "          'svm__gamma': [10, 1, 1e-1]}\n",
      "gs = GridSearchCV(pipe_with_pca, params, verbose=1, cv=skf, n_jobs=1)"
     ],
     "language": "python",
     "metadata": {},
     "outputs": [],
     "prompt_number": 17
    },
    {
     "cell_type": "code",
     "collapsed": false,
     "input": [
      "gs.fit(X, y, cv=skf)"
     ],
     "language": "python",
     "metadata": {},
     "outputs": [
      {
       "output_type": "stream",
       "stream": "stderr",
       "text": [
        "/usr/local/Cellar/python/2.7.5/Frameworks/Python.framework/Versions/2.7/lib/python2.7/site-packages/sklearn/grid_search.py:706: DeprecationWarning: Additional parameters to GridSearchCV are ignored! The params argument will be removed in 0.15.\n",
        "  DeprecationWarning)\n",
        "[Parallel(n_jobs=1)]: Done   1 jobs       | elapsed:    2.4s\n"
       ]
      },
      {
       "output_type": "stream",
       "stream": "stdout",
       "text": [
        "Fitting 5 folds for each of 9 candidates, totalling 45 fits\n"
       ]
      },
      {
       "output_type": "stream",
       "stream": "stderr",
       "text": [
        "[Parallel(n_jobs=1)]: Done  45 out of  45 | elapsed:  1.2min finished\n"
       ]
      },
      {
       "metadata": {},
       "output_type": "pyout",
       "prompt_number": 18,
       "text": [
        "GridSearchCV(cv=sklearn.cross_validation.StratifiedKFold(labels=[1 1 ..., 1 1], n_folds=5),\n",
        "       estimator=Pipeline(steps=[('scale', StandardScaler(copy=True, with_mean=True, with_std=True)), ('pca', PCA(copy=True, n_components=20, whiten=False)), ('svm', SVC(C=1.0, cache_size=200, class_weight='auto', coef0=0.0, degree=3,\n",
        "  gamma=0.0, kernel='rbf', max_iter=-1, probability=False,\n",
        "  random_state=None, shrinking=True, tol=0.001, verbose=False))]),\n",
        "       fit_params={}, iid=True, loss_func=None, n_jobs=1,\n",
        "       param_grid={'pca__n_components': [400, 200, 100], 'svm__C': [0.8], 'svm__gamma': [10, 1, 0.1]},\n",
        "       pre_dispatch='2*n_jobs', refit=True, score_func=None, scoring=None,\n",
        "       verbose=1)"
       ]
      }
     ],
     "prompt_number": 18
    }
   ],
   "metadata": {}
  }
 ]
}